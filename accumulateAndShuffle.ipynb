{
  "nbformat": 4,
  "nbformat_minor": 0,
  "metadata": {
    "colab": {
      "name": "accumulateAndShuffle.ipynb",
      "version": "0.3.2",
      "provenance": [],
      "collapsed_sections": []
    },
    "kernelspec": {
      "name": "python3",
      "display_name": "Python 3"
    }
  },
  "cells": [
    {
      "cell_type": "code",
      "metadata": {
        "id": "X2ii-Wr1jgCS",
        "colab_type": "code",
        "colab": {}
      },
      "source": [
        "def fetchSequence(geneSequence):\n",
        "  return [base[:-1] for base in [sequence for sequence in open(geneSequence, 'r')]]"
      ],
      "execution_count": 0,
      "outputs": []
    },
    {
      "cell_type": "code",
      "metadata": {
        "id": "98vHqFtvm1t3",
        "colab_type": "code",
        "colab": {}
      },
      "source": [
        "def integerEncoding(geneSequences):\n",
        "  import numpy as np\n",
        "  binarySequences = np.zeros((len(geneSequences), len(geneSequences[0]), 4))\n",
        "  for i in range(len(geneSequences)):\n",
        "    for j in range(len(geneSequences[0])):\n",
        "      for k in range(4):\n",
        "        if geneSequences[i][j] == 'A':\n",
        "          binarySequences[i, j, 0] = 1\n",
        "        if geneSequences[i][j] == 'C':\n",
        "          binarySequences[i, j, 1] = 1\n",
        "        if geneSequences[i][j] == 'G':\n",
        "          binarySequences[i, j, 2] = 1\n",
        "        if geneSequences[i][j] == 'T':\n",
        "          binarySequences[i, j, 3] = 1\n",
        "  return binarySequences"
      ],
      "execution_count": 0,
      "outputs": []
    },
    {
      "cell_type": "code",
      "metadata": {
        "id": "hG3t_gt5kqFJ",
        "colab_type": "code",
        "outputId": "9f77922c-effe-4670-d443-898b473a589a",
        "colab": {
          "base_uri": "https://localhost:8080/",
          "height": 34
        }
      },
      "source": [
        "dataset = fetchSequence(\"HSnonProm.txt\") + fetchSequence(\"HSnonTATApromDecoded.txt\")[:500] + fetchSequence(\"HStataPROM.txt\")\n",
        "X = integerEncoding(dataset)\n",
        "print(X.shape)"
      ],
      "execution_count": 3,
      "outputs": [
        {
          "output_type": "stream",
          "text": [
            "(2117, 251, 4)\n"
          ],
          "name": "stdout"
        }
      ]
    },
    {
      "cell_type": "code",
      "metadata": {
        "id": "6fOiEPXC6d7a",
        "colab_type": "code",
        "outputId": "b08aad0d-d6e2-4461-a22e-93fb8f63f8ec",
        "colab": {
          "base_uri": "https://localhost:8080/",
          "height": 85
        }
      },
      "source": [
        "#print(X[5, :, 3].shape)\n",
        "#print(fetchSequence(\"HSnonProm.txt\")[5])\n",
        "print(len(fetchSequence(\"HSnonProm.txt\")))\n",
        "print(len(fetchSequence(\"HSnonTATApromDecoded.txt\")[:500]))\n",
        "print(len(fetchSequence(\"HStataPROM.txt\")))\n",
        "print(X.shape)"
      ],
      "execution_count": 4,
      "outputs": [
        {
          "output_type": "stream",
          "text": [
            "1056\n",
            "500\n",
            "561\n",
            "(2117, 251, 4)\n"
          ],
          "name": "stdout"
        }
      ]
    },
    {
      "cell_type": "code",
      "metadata": {
        "id": "V8b38tsitCWO",
        "colab_type": "code",
        "colab": {
          "base_uri": "https://localhost:8080/",
          "height": 51
        },
        "outputId": "c4be40d8-f84d-423a-e1ba-98544b3ff4f1"
      },
      "source": [
        "import numpy as np\n",
        "Y = np.zeros((X.shape[0], 2))\n",
        "for i in range(len(fetchSequence(\"HSnonProm.txt\"))):\n",
        "  Y[i][1] = 1\n",
        "for i in range(len(fetchSequence(\"HSnonProm.txt\")), Y.shape[0]):\n",
        "  Y[i][0] = 1\n",
        "#Y = Y.reshape(Y.shape[0], 2, 1)\n",
        "print(Y[1060])\n",
        "print(Y.shape[0])"
      ],
      "execution_count": 5,
      "outputs": [
        {
          "output_type": "stream",
          "text": [
            "[1. 0.]\n",
            "2117\n"
          ],
          "name": "stdout"
        }
      ]
    },
    {
      "cell_type": "code",
      "metadata": {
        "id": "ua1YFLDFuDYO",
        "colab_type": "code",
        "outputId": "6667d01f-4207-483b-a8ab-24de235832cb",
        "colab": {
          "base_uri": "https://localhost:8080/",
          "height": 51
        }
      },
      "source": [
        "from sklearn.model_selection import train_test_split\n",
        "X_train, X_test, y_train, y_test = train_test_split(X, Y, test_size=0.4, random_state=42)\n",
        "print(X_train.shape)\n",
        "print(y_train.shape)"
      ],
      "execution_count": 6,
      "outputs": [
        {
          "output_type": "stream",
          "text": [
            "(1270, 251, 4)\n",
            "(1270, 2)\n"
          ],
          "name": "stdout"
        }
      ]
    },
    {
      "cell_type": "code",
      "metadata": {
        "id": "Q5OzqtfUunG_",
        "colab_type": "code",
        "colab": {}
      },
      "source": [
        "from keras.models import Sequential\n",
        "from keras.layers import Dense, Conv1D, Flatten, MaxPooling1D, MaxPooling2D, Conv2D\n",
        "model = Sequential()\n",
        "model.add(Conv1D(200, kernel_size = 21, strides = 1, data_format = 'channels_last', activation = 'relu', use_bias = True, bias_initializer='random_uniform'))\n",
        "model.add(MaxPooling1D(pool_size = 2, padding = 'valid', data_format = 'channels_last'))\n",
        "model.add(Flatten())\n",
        "model.add(Dense(2, activation = 'relu'))"
      ],
      "execution_count": 0,
      "outputs": []
    },
    {
      "cell_type": "code",
      "metadata": {
        "id": "l7N5KXPiwtDH",
        "colab_type": "code",
        "colab": {}
      },
      "source": [
        "import keras\n",
        "model.compile(optimizer='adam', loss='categorical_crossentropy', metrics=['accuracy'])\n",
        "#model.add(keras.layers.core.Reshape([1000, 1]))"
      ],
      "execution_count": 0,
      "outputs": []
    },
    {
      "cell_type": "code",
      "metadata": {
        "id": "l7U96LXbBT6b",
        "colab_type": "code",
        "outputId": "fecdc846-773d-473b-c588-7a490ec5699a",
        "colab": {
          "base_uri": "https://localhost:8080/",
          "height": 258
        }
      },
      "source": [
        "model.fit(X_train, y_train, validation_data=(X_test, y_test), epochs=3, batch_size = 16)"
      ],
      "execution_count": 13,
      "outputs": [
        {
          "output_type": "stream",
          "text": [
            "W0708 08:24:34.316815 139944807917440 deprecation.py:323] From /usr/local/lib/python3.6/dist-packages/tensorflow/python/ops/math_grad.py:1250: add_dispatch_support.<locals>.wrapper (from tensorflow.python.ops.array_ops) is deprecated and will be removed in a future version.\n",
            "Instructions for updating:\n",
            "Use tf.where in 2.0, which has the same broadcast rule as np.where\n",
            "W0708 08:24:34.387540 139944807917440 deprecation_wrapper.py:119] From /usr/local/lib/python3.6/dist-packages/keras/backend/tensorflow_backend.py:986: The name tf.assign_add is deprecated. Please use tf.compat.v1.assign_add instead.\n",
            "\n"
          ],
          "name": "stderr"
        },
        {
          "output_type": "stream",
          "text": [
            "Train on 1270 samples, validate on 847 samples\n",
            "Epoch 1/3\n",
            "1270/1270 [==============================] - 2s 2ms/step - loss: nan - acc: 0.5024 - val_loss: nan - val_acc: 0.5006\n",
            "Epoch 2/3\n",
            "1270/1270 [==============================] - 2s 1ms/step - loss: nan - acc: 0.5016 - val_loss: nan - val_acc: 0.5006\n",
            "Epoch 3/3\n",
            "1270/1270 [==============================] - 2s 1ms/step - loss: nan - acc: 0.5016 - val_loss: nan - val_acc: 0.5006\n"
          ],
          "name": "stdout"
        },
        {
          "output_type": "execute_result",
          "data": {
            "text/plain": [
              "<keras.callbacks.History at 0x7f472f426c18>"
            ]
          },
          "metadata": {
            "tags": []
          },
          "execution_count": 13
        }
      ]
    },
    {
      "cell_type": "code",
      "metadata": {
        "id": "i4B4eE4RZBfM",
        "colab_type": "code",
        "colab": {}
      },
      "source": [
        "|"
      ],
      "execution_count": 0,
      "outputs": []
    }
  ]
}