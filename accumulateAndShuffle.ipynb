{
  "nbformat": 4,
  "nbformat_minor": 0,
  "metadata": {
    "colab": {
      "name": "accumulateAnsShuffle.ipynb",
      "version": "0.3.2",
      "provenance": [],
      "collapsed_sections": [],
      "include_colab_link": true
    },
    "kernelspec": {
      "name": "python3",
      "display_name": "Python 3"
    }
  },
  "cells": [
    {
      "cell_type": "markdown",
      "metadata": {
        "id": "view-in-github",
        "colab_type": "text"
      },
      "source": [
        "<a href=\"https://colab.research.google.com/github/sundarayamrita/ML-in-bioinf/blob/master/accumulateAndShuffle.ipynb\" target=\"_parent\"><img src=\"https://colab.research.google.com/assets/colab-badge.svg\" alt=\"Open In Colab\"/></a>"
      ]
    },
    {
      "cell_type": "code",
      "metadata": {
        "id": "X2ii-Wr1jgCS",
        "colab_type": "code",
        "colab": {}
      },
      "source": [
        "def fetchSequence(geneSequence):\n",
        "  return [base[:-1] for base in [sequence for sequence in open(geneSequence, 'r')]]"
      ],
      "execution_count": 0,
      "outputs": []
    },
    {
      "cell_type": "code",
      "metadata": {
        "id": "98vHqFtvm1t3",
        "colab_type": "code",
        "colab": {}
      },
      "source": [
        "def integerEncoding(geneSequences):\n",
        "  import numpy as np\n",
        "  binarySequences = np.zeros((len(geneSequences), len(geneSequences[0]), 4))\n",
        "  for i in range(len(geneSequences)):\n",
        "    for j in range(len(geneSequences[0])):\n",
        "      for k in range(4):\n",
        "        if geneSequences[i][j] == 'A':\n",
        "          binarySequences[i, j, 0] = 1\n",
        "        if geneSequences[i][j] == 'C':\n",
        "          binarySequences[i, j, 1] = 1\n",
        "        if geneSequences[i][j] == 'G':\n",
        "          binarySequences[i, j, 2] = 1\n",
        "        if geneSequences[i][j] == 'T':\n",
        "          binarySequences[i, j, 3] = 1\n",
        "  return binarySequences"
      ],
      "execution_count": 0,
      "outputs": []
    },
    {
      "cell_type": "code",
      "metadata": {
        "id": "hG3t_gt5kqFJ",
        "colab_type": "code",
        "colab": {}
      },
      "source": [
        "dataset = fetchSequence(\"HSnonPromoterDataset.txt\") + fetchSequence(\"HSnonTATApromDecoded.txt\")[:500] + fetchSequence(\"HStataPROM.txt\")\n",
        "X = integerEncoding(dataset)"
      ],
      "execution_count": 0,
      "outputs": []
    },
    {
      "cell_type": "code",
      "metadata": {
        "id": "V8b38tsitCWO",
        "colab_type": "code",
        "colab": {}
      },
      "source": [
        "import numpy as np\n",
        "Y = np.zeros(X.shape[0])\n",
        "for i in range(1067, Y.shape[0]):\n",
        "  Y[i] = 1\n",
        "  \n",
        "Y.reshape((2128, 1))"
      ],
      "execution_count": 0,
      "outputs": []
    },
    {
      "cell_type": "code",
      "metadata": {
        "id": "ua1YFLDFuDYO",
        "colab_type": "code",
        "colab": {}
      },
      "source": [
        ""
      ],
      "execution_count": 0,
      "outputs": []
    }
  ]
}