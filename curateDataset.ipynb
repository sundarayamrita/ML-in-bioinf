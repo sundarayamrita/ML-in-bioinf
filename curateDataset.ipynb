{
  "nbformat": 4,
  "nbformat_minor": 0,
  "metadata": {
    "colab": {
      "name": "curateDataset.ipynb",
      "version": "0.3.2",
      "provenance": [],
      "collapsed_sections": []
    },
    "kernelspec": {
      "name": "python3",
      "display_name": "Python 3"
    }
  },
  "cells": [
    {
      "cell_type": "code",
      "metadata": {
        "id": "uC9uOBw6NOIa",
        "colab_type": "code",
        "colab": {}
      },
      "source": [
        " def fetchSequence(nonPromoterSequence):\n",
        "  return [base[:-1] for base in [sequence for sequence in open(nonPromoterSequence, 'r')]]"
      ],
      "execution_count": 0,
      "outputs": []
    },
    {
      "cell_type": "code",
      "metadata": {
        "id": "L8RprDYOW5ac",
        "colab_type": "code",
        "colab": {}
      },
      "source": [
        "def collectSequences(filename):\n",
        "  sequence = fetchSequence(filename)\n",
        "  from random import randrange\n",
        "  index = randrange(0, 343)\n",
        "  return(sequence[index] + sequence[index + 1] + sequence[index + 2] + sequence[index + 3] + sequence[index + 4][:11])"
      ],
      "execution_count": 0,
      "outputs": []
    },
    {
      "cell_type": "code",
      "metadata": {
        "id": "R3tneOG4XYnn",
        "colab_type": "code",
        "colab": {}
      },
      "source": [
        "for i in range(101):\n",
        "  file = open(\"HSnonPromoterDataset.txt\", 'a+')\n",
        "  file.write(collectSequences(\"humangene.txt\") + \"\\n\")"
      ],
      "execution_count": 0,
      "outputs": []
    },
    {
      "cell_type": "code",
      "metadata": {
        "id": "2ExMq4Q8D2Zh",
        "colab_type": "code",
        "colab": {}
      },
      "source": [
        "def integerEncoding(geneSequences):\n",
        "  import numpy as np\n",
        "  binarySequences = np.zeros((len(geneSequences), len(geneSequences[0]), 4))\n",
        "  for i in range(len(geneSequences)):\n",
        "    for j in range(len(geneSequences[0])):\n",
        "      for k in range(4):\n",
        "        if geneSequences[i][j] == 'A':\n",
        "          binarySequences[i, j, 0] = 1\n",
        "        if geneSequences[i][j] == 'C':\n",
        "          binarySequences[i, j, 1] = 1\n",
        "        if geneSequences[i][j] == 'G':\n",
        "          binarySequences[i, j, 2] = 1\n",
        "        if geneSequences[i][j] == 'T':\n",
        "          binarySequences[i, j, 3] = 1\n",
        "  return binarySequences"
      ],
      "execution_count": 0,
      "outputs": []
    },
    {
      "cell_type": "code",
      "metadata": {
        "id": "bH2hMQpGEoRt",
        "colab_type": "code",
        "outputId": "5247d0bf-adc1-4d0e-db6d-6757c03a1f07",
        "colab": {
          "base_uri": "https://localhost:8080/",
          "height": 34
        }
      },
      "source": [
        "geneSequences = fetchSequence(\"nonPromoterDataset.txt\")\n",
        "import numpy as np\n",
        "encodedGene = integerEncoding(geneSequences)\n",
        "print(np.shape(encodedGene))"
      ],
      "execution_count": 0,
      "outputs": [
        {
          "output_type": "stream",
          "text": [
            "(100, 251, 4)\n"
          ],
          "name": "stdout"
        }
      ]
    },
    {
      "cell_type": "code",
      "metadata": {
        "id": "2vAXsKLBA7Av",
        "colab_type": "code",
        "outputId": "175507fd-3416-4091-9e22-a718a7946770",
        "colab": {
          "base_uri": "https://localhost:8080/",
          "height": 204
        }
      },
      "source": [
        "print(encodedGene[8,:,2])"
      ],
      "execution_count": 0,
      "outputs": [
        {
          "output_type": "stream",
          "text": [
            "[0. 0. 0. 0. 0. 0. 1. 0. 1. 0. 0. 0. 0. 1. 0. 0. 0. 0. 0. 1. 1. 0. 0. 0.\n",
            " 0. 0. 0. 0. 0. 0. 0. 0. 0. 1. 1. 0. 0. 1. 0. 0. 0. 0. 1. 0. 0. 0. 1. 0.\n",
            " 0. 0. 0. 1. 0. 0. 0. 1. 0. 1. 0. 0. 0. 0. 0. 0. 0. 0. 0. 0. 0. 0. 0. 0.\n",
            " 0. 0. 1. 0. 1. 0. 0. 0. 1. 0. 0. 0. 0. 0. 0. 0. 0. 0. 0. 0. 1. 0. 0. 0.\n",
            " 0. 1. 1. 1. 1. 0. 0. 0. 0. 0. 1. 0. 1. 0. 0. 1. 1. 0. 0. 1. 0. 1. 0. 0.\n",
            " 1. 1. 0. 0. 0. 1. 0. 0. 0. 0. 0. 0. 0. 0. 1. 0. 0. 0. 0. 0. 1. 0. 0. 0.\n",
            " 1. 0. 0. 0. 0. 1. 0. 0. 1. 1. 0. 0. 0. 1. 0. 0. 1. 0. 0. 0. 0. 0. 1. 0.\n",
            " 0. 0. 0. 0. 0. 0. 0. 0. 0. 0. 0. 0. 0. 1. 0. 1. 0. 0. 0. 0. 0. 0. 1. 0.\n",
            " 0. 0. 0. 1. 0. 0. 0. 1. 0. 0. 0. 0. 0. 1. 0. 0. 0. 0. 0. 0. 0. 0. 0. 0.\n",
            " 0. 1. 1. 0. 1. 0. 0. 0. 0. 0. 0. 0. 0. 0. 0. 0. 0. 0. 0. 0. 0. 0. 0. 0.\n",
            " 0. 0. 0. 0. 0. 0. 0. 0. 0. 0. 0.]\n"
          ],
          "name": "stdout"
        }
      ]
    },
    {
      "cell_type": "code",
      "metadata": {
        "id": "2nW-nZ6DTmwt",
        "colab_type": "code",
        "outputId": "6e14b7ea-25f4-4b63-f7c6-5e4c8c9f432a",
        "colab": {
          "base_uri": "https://localhost:8080/",
          "height": 54
        }
      },
      "source": [
        "print(geneSequences[8])"
      ],
      "execution_count": 0,
      "outputs": [
        {
          "output_type": "stream",
          "text": [
            "TTACCAGTGTTTAGAATCAGGTCACTCAAACATGGTAGATAAGTTTGCATAGTTTGTGTATATCCATCACTCTTGAGACAGTTTTATTTTAAGTTCCGGGGTACATGTGCAGGATGTGCAGGTTTGTTACATAAGTAAACGTATGCCATGTTGGTTTGCTGCACCTGTCAACCCTTCACCTGAGTATTAAGCCCAGCATGCATTAGCTATTTTTCCTGGTGCTCTCCTTCCCCCCACACACCCCCACCTCC\n"
          ],
          "name": "stdout"
        }
      ]
    },
    {
      "cell_type": "code",
      "metadata": {
        "id": "wrRjclu8Tqo1",
        "colab_type": "code",
        "colab": {}
      },
      "source": [
        ""
      ],
      "execution_count": 0,
      "outputs": []
    }
  ]
}