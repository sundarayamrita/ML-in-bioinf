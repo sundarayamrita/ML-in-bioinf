{
  "nbformat": 4,
  "nbformat_minor": 0,
  "metadata": {
    "colab": {
      "name": "curateDataset.ipynb",
      "version": "0.3.2",
      "provenance": [],
      "collapsed_sections": [],
      "include_colab_link": true
    },
    "kernelspec": {
      "name": "python3",
      "display_name": "Python 3"
    }
  },
  "cells": [
    {
      "cell_type": "markdown",
      "metadata": {
        "id": "view-in-github",
        "colab_type": "text"
      },
      "source": [
        "<a href=\"https://colab.research.google.com/github/sundarayamrita/ML-in-bioinf/blob/master/curateDataset.ipynb\" target=\"_parent\"><img src=\"https://colab.research.google.com/assets/colab-badge.svg\" alt=\"Open In Colab\"/></a>"
      ]
    },
    {
      "cell_type": "code",
      "metadata": {
        "id": "uC9uOBw6NOIa",
        "colab_type": "code",
        "colab": {}
      },
      "source": [
        " def fetchSequence(geneSequence):\n",
        "  return [base[:-1] for base in [sequence for sequence in open(geneSequence, 'r')]]"
      ],
      "execution_count": 0,
      "outputs": []
    },
    {
      "cell_type": "code",
      "metadata": {
        "id": "L8RprDYOW5ac",
        "colab_type": "code",
        "colab": {}
      },
      "source": [
        "def collectSequences(filename):\n",
        "  sequence = fetchSequence(filename)\n",
        "  from random import randrange\n",
        "  index = randrange(0, 343)\n",
        "  return(sequence[index] + sequence[index + 1] + sequence[index + 2] + sequence[index + 3] + sequence[index + 4][:11])"
      ],
      "execution_count": 0,
      "outputs": []
    },
    {
      "cell_type": "code",
      "metadata": {
        "id": "R3tneOG4XYnn",
        "colab_type": "code",
        "colab": {}
      },
      "source": [
        "for i in range(101):\n",
        "  file = open(\"HSnonPromoterDataset.txt\", 'a+')\n",
        "  file.write(collectSequences(\"humangene.txt\") + \"\\n\")"
      ],
      "execution_count": 0,
      "outputs": []
    },
    {
      "cell_type": "code",
      "metadata": {
        "id": "LDbqcxi1DJ3m",
        "colab_type": "code",
        "colab": {}
      },
      "source": [
        ""
      ],
      "execution_count": 0,
      "outputs": []
    }
  ]
}