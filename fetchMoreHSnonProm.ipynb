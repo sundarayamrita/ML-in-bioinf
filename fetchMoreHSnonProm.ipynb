{
 "cells": [
  {
   "cell_type": "code",
   "execution_count": null,
   "metadata": {},
   "outputs": [],
   "source": [
    "def fileCleanUp(nonPromFile):\n",
    "    return [_5bp[1:] for _5bp in [fastaLine.split() for fastaLine in open(nonPromFile, 'r')]]"
   ]
  },
  {
   "cell_type": "code",
   "execution_count": null,
   "metadata": {},
   "outputs": [],
   "source": [
    "def generateRandSeq(nonProm):\n",
    "    from random import randrange\n",
    "    index = randrange(0, len(nonProm) - 4)\n",
    "    return(''.join(nonProm[index]) + ''.join(nonProm[index + 1]) + ''.join(nonProm[index + 2]) + ''.join(nonProm[index + 3]) + ''.join(nonProm[index + 4][0]) + ''.join(nonProm[index + 4][1][:1]))"
   ]
  },
  {
   "cell_type": "code",
   "execution_count": null,
   "metadata": {},
   "outputs": [],
   "source": [
    "for i in range(151):\n",
    "  file = open(\"HSnonPromoterDataset.txt\", 'a+')\n",
    "  file.write(generateRandSeq(fileCleanUp(\"HSgeneU25134.txt\")) + \"\\n\")"
   ]
  },
  {
   "cell_type": "code",
   "execution_count": null,
   "metadata": {},
   "outputs": [],
   "source": []
  }
 ],
 "metadata": {
  "kernelspec": {
   "display_name": "Python 3",
   "language": "python",
   "name": "python3"
  },
  "language_info": {
   "codemirror_mode": {
    "name": "ipython",
    "version": 3
   },
   "file_extension": ".py",
   "mimetype": "text/x-python",
   "name": "python",
   "nbconvert_exporter": "python",
   "pygments_lexer": "ipython3",
   "version": "3.7.3"
  }
 },
 "nbformat": 4,
 "nbformat_minor": 2
}
